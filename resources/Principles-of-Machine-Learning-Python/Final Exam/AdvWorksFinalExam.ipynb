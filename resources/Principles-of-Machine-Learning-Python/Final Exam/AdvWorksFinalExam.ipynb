{
 "cells": [
  {
   "cell_type": "code",
   "execution_count": 1,
   "metadata": {},
   "outputs": [],
   "source": [
    "import pandas as pd\n",
    "import matplotlib.pyplot as plt\n",
    "import numpy as np\n",
    "%matplotlib inline"
   ]
  },
  {
   "cell_type": "code",
   "execution_count": 2,
   "metadata": {},
   "outputs": [],
   "source": [
    "aw_custs = pd.read_csv('./AdvWorksCusts.csv')\n",
    "aw_spent = pd.read_csv('./AW_AveMonthSpend.csv')\n",
    "aw_buyers = pd.read_csv('./AW_BikeBuyer.csv')"
   ]
  },
  {
   "cell_type": "markdown",
   "metadata": {},
   "source": [
    "# Customer Overview"
   ]
  },
  {
   "cell_type": "code",
   "execution_count": 3,
   "metadata": {},
   "outputs": [
    {
     "data": {
      "text/html": [
       "<div>\n",
       "<style scoped>\n",
       "    .dataframe tbody tr th:only-of-type {\n",
       "        vertical-align: middle;\n",
       "    }\n",
       "\n",
       "    .dataframe tbody tr th {\n",
       "        vertical-align: top;\n",
       "    }\n",
       "\n",
       "    .dataframe thead th {\n",
       "        text-align: right;\n",
       "    }\n",
       "</style>\n",
       "<table border=\"1\" class=\"dataframe\">\n",
       "  <thead>\n",
       "    <tr style=\"text-align: right;\">\n",
       "      <th></th>\n",
       "      <th>CustomerID</th>\n",
       "      <th>HomeOwnerFlag</th>\n",
       "      <th>NumberCarsOwned</th>\n",
       "      <th>NumberChildrenAtHome</th>\n",
       "      <th>TotalChildren</th>\n",
       "      <th>YearlyIncome</th>\n",
       "    </tr>\n",
       "  </thead>\n",
       "  <tbody>\n",
       "    <tr>\n",
       "      <th>count</th>\n",
       "      <td>16519.000000</td>\n",
       "      <td>16519.000000</td>\n",
       "      <td>16519.000000</td>\n",
       "      <td>16519.000000</td>\n",
       "      <td>16519.000000</td>\n",
       "      <td>16519.000000</td>\n",
       "    </tr>\n",
       "    <tr>\n",
       "      <th>mean</th>\n",
       "      <td>20234.225195</td>\n",
       "      <td>0.673891</td>\n",
       "      <td>1.500999</td>\n",
       "      <td>0.992009</td>\n",
       "      <td>2.006235</td>\n",
       "      <td>78122.511532</td>\n",
       "    </tr>\n",
       "    <tr>\n",
       "      <th>std</th>\n",
       "      <td>5342.515987</td>\n",
       "      <td>0.468802</td>\n",
       "      <td>1.138962</td>\n",
       "      <td>1.515048</td>\n",
       "      <td>1.682736</td>\n",
       "      <td>39710.985718</td>\n",
       "    </tr>\n",
       "    <tr>\n",
       "      <th>min</th>\n",
       "      <td>11000.000000</td>\n",
       "      <td>0.000000</td>\n",
       "      <td>0.000000</td>\n",
       "      <td>0.000000</td>\n",
       "      <td>0.000000</td>\n",
       "      <td>9482.000000</td>\n",
       "    </tr>\n",
       "    <tr>\n",
       "      <th>25%</th>\n",
       "      <td>15604.500000</td>\n",
       "      <td>0.000000</td>\n",
       "      <td>1.000000</td>\n",
       "      <td>0.000000</td>\n",
       "      <td>0.000000</td>\n",
       "      <td>47807.500000</td>\n",
       "    </tr>\n",
       "    <tr>\n",
       "      <th>50%</th>\n",
       "      <td>20221.000000</td>\n",
       "      <td>1.000000</td>\n",
       "      <td>2.000000</td>\n",
       "      <td>0.000000</td>\n",
       "      <td>2.000000</td>\n",
       "      <td>76120.000000</td>\n",
       "    </tr>\n",
       "    <tr>\n",
       "      <th>75%</th>\n",
       "      <td>24860.500000</td>\n",
       "      <td>1.000000</td>\n",
       "      <td>2.000000</td>\n",
       "      <td>2.000000</td>\n",
       "      <td>3.000000</td>\n",
       "      <td>105194.500000</td>\n",
       "    </tr>\n",
       "    <tr>\n",
       "      <th>max</th>\n",
       "      <td>29482.000000</td>\n",
       "      <td>1.000000</td>\n",
       "      <td>4.000000</td>\n",
       "      <td>5.000000</td>\n",
       "      <td>5.000000</td>\n",
       "      <td>196511.000000</td>\n",
       "    </tr>\n",
       "  </tbody>\n",
       "</table>\n",
       "</div>"
      ],
      "text/plain": [
       "         CustomerID  HomeOwnerFlag  NumberCarsOwned  NumberChildrenAtHome  \\\n",
       "count  16519.000000   16519.000000     16519.000000          16519.000000   \n",
       "mean   20234.225195       0.673891         1.500999              0.992009   \n",
       "std     5342.515987       0.468802         1.138962              1.515048   \n",
       "min    11000.000000       0.000000         0.000000              0.000000   \n",
       "25%    15604.500000       0.000000         1.000000              0.000000   \n",
       "50%    20221.000000       1.000000         2.000000              0.000000   \n",
       "75%    24860.500000       1.000000         2.000000              2.000000   \n",
       "max    29482.000000       1.000000         4.000000              5.000000   \n",
       "\n",
       "       TotalChildren   YearlyIncome  \n",
       "count   16519.000000   16519.000000  \n",
       "mean        2.006235   78122.511532  \n",
       "std         1.682736   39710.985718  \n",
       "min         0.000000    9482.000000  \n",
       "25%         0.000000   47807.500000  \n",
       "50%         2.000000   76120.000000  \n",
       "75%         3.000000  105194.500000  \n",
       "max         5.000000  196511.000000  "
      ]
     },
     "execution_count": 3,
     "metadata": {},
     "output_type": "execute_result"
    }
   ],
   "source": [
    "aw_custs.describe()"
   ]
  },
  {
   "cell_type": "code",
   "execution_count": 4,
   "metadata": {},
   "outputs": [
    {
     "data": {
      "text/html": [
       "<div>\n",
       "<style scoped>\n",
       "    .dataframe tbody tr th:only-of-type {\n",
       "        vertical-align: middle;\n",
       "    }\n",
       "\n",
       "    .dataframe tbody tr th {\n",
       "        vertical-align: top;\n",
       "    }\n",
       "\n",
       "    .dataframe thead th {\n",
       "        text-align: right;\n",
       "    }\n",
       "</style>\n",
       "<table border=\"1\" class=\"dataframe\">\n",
       "  <thead>\n",
       "    <tr style=\"text-align: right;\">\n",
       "      <th></th>\n",
       "      <th>CustomerID</th>\n",
       "      <th>Title</th>\n",
       "      <th>FirstName</th>\n",
       "      <th>MiddleName</th>\n",
       "      <th>LastName</th>\n",
       "      <th>Suffix</th>\n",
       "      <th>AddressLine1</th>\n",
       "      <th>AddressLine2</th>\n",
       "      <th>City</th>\n",
       "      <th>StateProvinceName</th>\n",
       "      <th>CountryRegionName</th>\n",
       "      <th>PostalCode</th>\n",
       "      <th>PhoneNumber</th>\n",
       "      <th>BirthDate</th>\n",
       "      <th>Education</th>\n",
       "      <th>Occupation</th>\n",
       "      <th>Gender</th>\n",
       "      <th>MaritalStatus</th>\n",
       "      <th>HomeOwnerFlag</th>\n",
       "      <th>NumberCarsOwned</th>\n",
       "      <th>NumberChildrenAtHome</th>\n",
       "      <th>TotalChildren</th>\n",
       "      <th>YearlyIncome</th>\n",
       "    </tr>\n",
       "  </thead>\n",
       "  <tbody>\n",
       "    <tr>\n",
       "      <th>0</th>\n",
       "      <td>11000</td>\n",
       "      <td>NaN</td>\n",
       "      <td>Jon</td>\n",
       "      <td>V</td>\n",
       "      <td>Yang</td>\n",
       "      <td>NaN</td>\n",
       "      <td>3761 N. 14th St</td>\n",
       "      <td>NaN</td>\n",
       "      <td>Rockhampton</td>\n",
       "      <td>Queensland</td>\n",
       "      <td>Australia</td>\n",
       "      <td>4700</td>\n",
       "      <td>1 (11) 500 555-0162</td>\n",
       "      <td>1966-04-08</td>\n",
       "      <td>Bachelors</td>\n",
       "      <td>Professional</td>\n",
       "      <td>M</td>\n",
       "      <td>M</td>\n",
       "      <td>1</td>\n",
       "      <td>0</td>\n",
       "      <td>0</td>\n",
       "      <td>2</td>\n",
       "      <td>137947</td>\n",
       "    </tr>\n",
       "    <tr>\n",
       "      <th>1</th>\n",
       "      <td>11001</td>\n",
       "      <td>NaN</td>\n",
       "      <td>Eugene</td>\n",
       "      <td>L</td>\n",
       "      <td>Huang</td>\n",
       "      <td>NaN</td>\n",
       "      <td>2243 W St.</td>\n",
       "      <td>NaN</td>\n",
       "      <td>Seaford</td>\n",
       "      <td>Victoria</td>\n",
       "      <td>Australia</td>\n",
       "      <td>3198</td>\n",
       "      <td>1 (11) 500 555-0110</td>\n",
       "      <td>1965-05-14</td>\n",
       "      <td>Bachelors</td>\n",
       "      <td>Professional</td>\n",
       "      <td>M</td>\n",
       "      <td>S</td>\n",
       "      <td>0</td>\n",
       "      <td>1</td>\n",
       "      <td>3</td>\n",
       "      <td>3</td>\n",
       "      <td>101141</td>\n",
       "    </tr>\n",
       "    <tr>\n",
       "      <th>2</th>\n",
       "      <td>11002</td>\n",
       "      <td>NaN</td>\n",
       "      <td>Ruben</td>\n",
       "      <td>NaN</td>\n",
       "      <td>Torres</td>\n",
       "      <td>NaN</td>\n",
       "      <td>5844 Linden Land</td>\n",
       "      <td>NaN</td>\n",
       "      <td>Hobart</td>\n",
       "      <td>Tasmania</td>\n",
       "      <td>Australia</td>\n",
       "      <td>7001</td>\n",
       "      <td>1 (11) 500 555-0184</td>\n",
       "      <td>1965-08-12</td>\n",
       "      <td>Bachelors</td>\n",
       "      <td>Professional</td>\n",
       "      <td>M</td>\n",
       "      <td>M</td>\n",
       "      <td>1</td>\n",
       "      <td>1</td>\n",
       "      <td>3</td>\n",
       "      <td>3</td>\n",
       "      <td>91945</td>\n",
       "    </tr>\n",
       "    <tr>\n",
       "      <th>3</th>\n",
       "      <td>11003</td>\n",
       "      <td>NaN</td>\n",
       "      <td>Christy</td>\n",
       "      <td>NaN</td>\n",
       "      <td>Zhu</td>\n",
       "      <td>NaN</td>\n",
       "      <td>1825 Village Pl.</td>\n",
       "      <td>NaN</td>\n",
       "      <td>North Ryde</td>\n",
       "      <td>New South Wales</td>\n",
       "      <td>Australia</td>\n",
       "      <td>2113</td>\n",
       "      <td>1 (11) 500 555-0162</td>\n",
       "      <td>1968-02-15</td>\n",
       "      <td>Bachelors</td>\n",
       "      <td>Professional</td>\n",
       "      <td>F</td>\n",
       "      <td>S</td>\n",
       "      <td>0</td>\n",
       "      <td>1</td>\n",
       "      <td>0</td>\n",
       "      <td>0</td>\n",
       "      <td>86688</td>\n",
       "    </tr>\n",
       "    <tr>\n",
       "      <th>4</th>\n",
       "      <td>11004</td>\n",
       "      <td>NaN</td>\n",
       "      <td>Elizabeth</td>\n",
       "      <td>NaN</td>\n",
       "      <td>Johnson</td>\n",
       "      <td>NaN</td>\n",
       "      <td>7553 Harness Circle</td>\n",
       "      <td>NaN</td>\n",
       "      <td>Wollongong</td>\n",
       "      <td>New South Wales</td>\n",
       "      <td>Australia</td>\n",
       "      <td>2500</td>\n",
       "      <td>1 (11) 500 555-0131</td>\n",
       "      <td>1968-08-08</td>\n",
       "      <td>Bachelors</td>\n",
       "      <td>Professional</td>\n",
       "      <td>F</td>\n",
       "      <td>S</td>\n",
       "      <td>1</td>\n",
       "      <td>4</td>\n",
       "      <td>5</td>\n",
       "      <td>5</td>\n",
       "      <td>92771</td>\n",
       "    </tr>\n",
       "    <tr>\n",
       "      <th>5</th>\n",
       "      <td>11005</td>\n",
       "      <td>NaN</td>\n",
       "      <td>Julio</td>\n",
       "      <td>NaN</td>\n",
       "      <td>Ruiz</td>\n",
       "      <td>NaN</td>\n",
       "      <td>7305 Humphrey Drive</td>\n",
       "      <td>NaN</td>\n",
       "      <td>East Brisbane</td>\n",
       "      <td>Queensland</td>\n",
       "      <td>Australia</td>\n",
       "      <td>4169</td>\n",
       "      <td>1 (11) 500 555-0151</td>\n",
       "      <td>1965-08-05</td>\n",
       "      <td>Bachelors</td>\n",
       "      <td>Professional</td>\n",
       "      <td>M</td>\n",
       "      <td>S</td>\n",
       "      <td>1</td>\n",
       "      <td>1</td>\n",
       "      <td>0</td>\n",
       "      <td>0</td>\n",
       "      <td>103199</td>\n",
       "    </tr>\n",
       "    <tr>\n",
       "      <th>6</th>\n",
       "      <td>11006</td>\n",
       "      <td>NaN</td>\n",
       "      <td>Janet</td>\n",
       "      <td>G</td>\n",
       "      <td>Alvarez</td>\n",
       "      <td>NaN</td>\n",
       "      <td>2612 Berry Dr</td>\n",
       "      <td>NaN</td>\n",
       "      <td>Matraville</td>\n",
       "      <td>New South Wales</td>\n",
       "      <td>Australia</td>\n",
       "      <td>2036</td>\n",
       "      <td>1 (11) 500 555-0184</td>\n",
       "      <td>1965-12-06</td>\n",
       "      <td>Bachelors</td>\n",
       "      <td>Professional</td>\n",
       "      <td>F</td>\n",
       "      <td>S</td>\n",
       "      <td>1</td>\n",
       "      <td>1</td>\n",
       "      <td>0</td>\n",
       "      <td>0</td>\n",
       "      <td>84756</td>\n",
       "    </tr>\n",
       "    <tr>\n",
       "      <th>7</th>\n",
       "      <td>11007</td>\n",
       "      <td>NaN</td>\n",
       "      <td>Marco</td>\n",
       "      <td>NaN</td>\n",
       "      <td>Mehta</td>\n",
       "      <td>NaN</td>\n",
       "      <td>942 Brook Street</td>\n",
       "      <td>NaN</td>\n",
       "      <td>Warrnambool</td>\n",
       "      <td>Victoria</td>\n",
       "      <td>Australia</td>\n",
       "      <td>3280</td>\n",
       "      <td>1 (11) 500 555-0126</td>\n",
       "      <td>1964-05-09</td>\n",
       "      <td>Bachelors</td>\n",
       "      <td>Professional</td>\n",
       "      <td>M</td>\n",
       "      <td>M</td>\n",
       "      <td>1</td>\n",
       "      <td>2</td>\n",
       "      <td>3</td>\n",
       "      <td>3</td>\n",
       "      <td>109759</td>\n",
       "    </tr>\n",
       "    <tr>\n",
       "      <th>8</th>\n",
       "      <td>11008</td>\n",
       "      <td>NaN</td>\n",
       "      <td>Rob</td>\n",
       "      <td>NaN</td>\n",
       "      <td>Verhoff</td>\n",
       "      <td>NaN</td>\n",
       "      <td>624 Peabody Road</td>\n",
       "      <td>NaN</td>\n",
       "      <td>Bendigo</td>\n",
       "      <td>Victoria</td>\n",
       "      <td>Australia</td>\n",
       "      <td>3550</td>\n",
       "      <td>1 (11) 500 555-0164</td>\n",
       "      <td>1964-07-07</td>\n",
       "      <td>Bachelors</td>\n",
       "      <td>Professional</td>\n",
       "      <td>F</td>\n",
       "      <td>S</td>\n",
       "      <td>1</td>\n",
       "      <td>3</td>\n",
       "      <td>4</td>\n",
       "      <td>4</td>\n",
       "      <td>88005</td>\n",
       "    </tr>\n",
       "    <tr>\n",
       "      <th>9</th>\n",
       "      <td>11009</td>\n",
       "      <td>NaN</td>\n",
       "      <td>Shannon</td>\n",
       "      <td>C</td>\n",
       "      <td>Carlson</td>\n",
       "      <td>NaN</td>\n",
       "      <td>3839 Northgate Road</td>\n",
       "      <td>NaN</td>\n",
       "      <td>Hervey Bay</td>\n",
       "      <td>Queensland</td>\n",
       "      <td>Australia</td>\n",
       "      <td>4655</td>\n",
       "      <td>1 (11) 500 555-0110</td>\n",
       "      <td>1964-04-01</td>\n",
       "      <td>Bachelors</td>\n",
       "      <td>Professional</td>\n",
       "      <td>M</td>\n",
       "      <td>S</td>\n",
       "      <td>0</td>\n",
       "      <td>1</td>\n",
       "      <td>0</td>\n",
       "      <td>0</td>\n",
       "      <td>106399</td>\n",
       "    </tr>\n",
       "    <tr>\n",
       "      <th>10</th>\n",
       "      <td>11010</td>\n",
       "      <td>NaN</td>\n",
       "      <td>Jacquelyn</td>\n",
       "      <td>C</td>\n",
       "      <td>Suarez</td>\n",
       "      <td>NaN</td>\n",
       "      <td>7800 Corrinne Court</td>\n",
       "      <td>NaN</td>\n",
       "      <td>East Brisbane</td>\n",
       "      <td>Queensland</td>\n",
       "      <td>Australia</td>\n",
       "      <td>4169</td>\n",
       "      <td>1 (11) 500 555-0169</td>\n",
       "      <td>1964-02-06</td>\n",
       "      <td>Bachelors</td>\n",
       "      <td>Professional</td>\n",
       "      <td>F</td>\n",
       "      <td>S</td>\n",
       "      <td>0</td>\n",
       "      <td>1</td>\n",
       "      <td>0</td>\n",
       "      <td>0</td>\n",
       "      <td>81294</td>\n",
       "    </tr>\n",
       "    <tr>\n",
       "      <th>11</th>\n",
       "      <td>11011</td>\n",
       "      <td>NaN</td>\n",
       "      <td>Curtis</td>\n",
       "      <td>NaN</td>\n",
       "      <td>Lu</td>\n",
       "      <td>NaN</td>\n",
       "      <td>1224 Shoenic</td>\n",
       "      <td>NaN</td>\n",
       "      <td>East Brisbane</td>\n",
       "      <td>Queensland</td>\n",
       "      <td>Australia</td>\n",
       "      <td>4169</td>\n",
       "      <td>1 (11) 500 555-0117</td>\n",
       "      <td>1963-11-04</td>\n",
       "      <td>Bachelors</td>\n",
       "      <td>Professional</td>\n",
       "      <td>M</td>\n",
       "      <td>M</td>\n",
       "      <td>1</td>\n",
       "      <td>4</td>\n",
       "      <td>4</td>\n",
       "      <td>4</td>\n",
       "      <td>94029</td>\n",
       "    </tr>\n",
       "    <tr>\n",
       "      <th>12</th>\n",
       "      <td>11012</td>\n",
       "      <td>NaN</td>\n",
       "      <td>Lauren</td>\n",
       "      <td>M</td>\n",
       "      <td>Walker</td>\n",
       "      <td>NaN</td>\n",
       "      <td>4785 Scott Street</td>\n",
       "      <td>NaN</td>\n",
       "      <td>Bremerton</td>\n",
       "      <td>Washington</td>\n",
       "      <td>United States</td>\n",
       "      <td>98312</td>\n",
       "      <td>717-555-0164</td>\n",
       "      <td>1968-01-18</td>\n",
       "      <td>Bachelors</td>\n",
       "      <td>Management</td>\n",
       "      <td>F</td>\n",
       "      <td>M</td>\n",
       "      <td>1</td>\n",
       "      <td>2</td>\n",
       "      <td>0</td>\n",
       "      <td>2</td>\n",
       "      <td>99245</td>\n",
       "    </tr>\n",
       "    <tr>\n",
       "      <th>13</th>\n",
       "      <td>11013</td>\n",
       "      <td>NaN</td>\n",
       "      <td>Ian</td>\n",
       "      <td>M</td>\n",
       "      <td>Jenkins</td>\n",
       "      <td>NaN</td>\n",
       "      <td>7902 Hudson Ave.</td>\n",
       "      <td>NaN</td>\n",
       "      <td>Lebanon</td>\n",
       "      <td>Oregon</td>\n",
       "      <td>United States</td>\n",
       "      <td>97355</td>\n",
       "      <td>817-555-0185</td>\n",
       "      <td>1968-08-06</td>\n",
       "      <td>Bachelors</td>\n",
       "      <td>Management</td>\n",
       "      <td>M</td>\n",
       "      <td>M</td>\n",
       "      <td>1</td>\n",
       "      <td>3</td>\n",
       "      <td>0</td>\n",
       "      <td>2</td>\n",
       "      <td>115859</td>\n",
       "    </tr>\n",
       "    <tr>\n",
       "      <th>14</th>\n",
       "      <td>11014</td>\n",
       "      <td>NaN</td>\n",
       "      <td>Sydney</td>\n",
       "      <td>NaN</td>\n",
       "      <td>Bennett</td>\n",
       "      <td>NaN</td>\n",
       "      <td>9011 Tank Drive</td>\n",
       "      <td>NaN</td>\n",
       "      <td>Redmond</td>\n",
       "      <td>Washington</td>\n",
       "      <td>United States</td>\n",
       "      <td>98052</td>\n",
       "      <td>431-555-0156</td>\n",
       "      <td>1968-05-09</td>\n",
       "      <td>Bachelors</td>\n",
       "      <td>Management</td>\n",
       "      <td>F</td>\n",
       "      <td>S</td>\n",
       "      <td>0</td>\n",
       "      <td>3</td>\n",
       "      <td>0</td>\n",
       "      <td>3</td>\n",
       "      <td>105157</td>\n",
       "    </tr>\n",
       "    <tr>\n",
       "      <th>15</th>\n",
       "      <td>11015</td>\n",
       "      <td>NaN</td>\n",
       "      <td>Chloe</td>\n",
       "      <td>NaN</td>\n",
       "      <td>Young</td>\n",
       "      <td>NaN</td>\n",
       "      <td>244 Willow Pass Road</td>\n",
       "      <td>NaN</td>\n",
       "      <td>Burbank</td>\n",
       "      <td>California</td>\n",
       "      <td>United States</td>\n",
       "      <td>91502</td>\n",
       "      <td>208-555-0142</td>\n",
       "      <td>1979-02-27</td>\n",
       "      <td>Partial College</td>\n",
       "      <td>Skilled Manual</td>\n",
       "      <td>F</td>\n",
       "      <td>S</td>\n",
       "      <td>0</td>\n",
       "      <td>1</td>\n",
       "      <td>0</td>\n",
       "      <td>0</td>\n",
       "      <td>40011</td>\n",
       "    </tr>\n",
       "    <tr>\n",
       "      <th>16</th>\n",
       "      <td>11016</td>\n",
       "      <td>NaN</td>\n",
       "      <td>Wyatt</td>\n",
       "      <td>L</td>\n",
       "      <td>Hill</td>\n",
       "      <td>NaN</td>\n",
       "      <td>9666 Northridge Ct.</td>\n",
       "      <td>NaN</td>\n",
       "      <td>Imperial Beach</td>\n",
       "      <td>California</td>\n",
       "      <td>United States</td>\n",
       "      <td>91932</td>\n",
       "      <td>135-555-0171</td>\n",
       "      <td>1979-04-28</td>\n",
       "      <td>Partial College</td>\n",
       "      <td>Skilled Manual</td>\n",
       "      <td>M</td>\n",
       "      <td>M</td>\n",
       "      <td>1</td>\n",
       "      <td>1</td>\n",
       "      <td>0</td>\n",
       "      <td>0</td>\n",
       "      <td>46808</td>\n",
       "    </tr>\n",
       "    <tr>\n",
       "      <th>17</th>\n",
       "      <td>11019</td>\n",
       "      <td>NaN</td>\n",
       "      <td>Luke</td>\n",
       "      <td>L</td>\n",
       "      <td>Lal</td>\n",
       "      <td>NaN</td>\n",
       "      <td>7832 Landing Dr</td>\n",
       "      <td>NaN</td>\n",
       "      <td>Langley</td>\n",
       "      <td>British Columbia</td>\n",
       "      <td>Canada</td>\n",
       "      <td>V3A 4R2</td>\n",
       "      <td>262-555-0112</td>\n",
       "      <td>1978-03-07</td>\n",
       "      <td>High School</td>\n",
       "      <td>Skilled Manual</td>\n",
       "      <td>M</td>\n",
       "      <td>S</td>\n",
       "      <td>0</td>\n",
       "      <td>2</td>\n",
       "      <td>0</td>\n",
       "      <td>0</td>\n",
       "      <td>49455</td>\n",
       "    </tr>\n",
       "    <tr>\n",
       "      <th>18</th>\n",
       "      <td>11020</td>\n",
       "      <td>NaN</td>\n",
       "      <td>Jordan</td>\n",
       "      <td>C</td>\n",
       "      <td>King</td>\n",
       "      <td>NaN</td>\n",
       "      <td>7156 Rose Dr.</td>\n",
       "      <td>NaN</td>\n",
       "      <td>Metchosin</td>\n",
       "      <td>British Columbia</td>\n",
       "      <td>Canada</td>\n",
       "      <td>V9</td>\n",
       "      <td>550-555-0163</td>\n",
       "      <td>1978-09-20</td>\n",
       "      <td>High School</td>\n",
       "      <td>Skilled Manual</td>\n",
       "      <td>M</td>\n",
       "      <td>S</td>\n",
       "      <td>0</td>\n",
       "      <td>2</td>\n",
       "      <td>0</td>\n",
       "      <td>0</td>\n",
       "      <td>43857</td>\n",
       "    </tr>\n",
       "    <tr>\n",
       "      <th>19</th>\n",
       "      <td>11023</td>\n",
       "      <td>NaN</td>\n",
       "      <td>Seth</td>\n",
       "      <td>M</td>\n",
       "      <td>Edwards</td>\n",
       "      <td>NaN</td>\n",
       "      <td>4499 Valley Crest</td>\n",
       "      <td>NaN</td>\n",
       "      <td>Bellflower</td>\n",
       "      <td>California</td>\n",
       "      <td>United States</td>\n",
       "      <td>90706</td>\n",
       "      <td>452-555-0188</td>\n",
       "      <td>1978-10-11</td>\n",
       "      <td>Partial College</td>\n",
       "      <td>Skilled Manual</td>\n",
       "      <td>M</td>\n",
       "      <td>M</td>\n",
       "      <td>1</td>\n",
       "      <td>1</td>\n",
       "      <td>0</td>\n",
       "      <td>0</td>\n",
       "      <td>50046</td>\n",
       "    </tr>\n",
       "  </tbody>\n",
       "</table>\n",
       "</div>"
      ],
      "text/plain": [
       "    CustomerID Title  FirstName MiddleName LastName Suffix  \\\n",
       "0        11000   NaN        Jon          V     Yang    NaN   \n",
       "1        11001   NaN     Eugene          L    Huang    NaN   \n",
       "2        11002   NaN      Ruben        NaN   Torres    NaN   \n",
       "3        11003   NaN    Christy        NaN      Zhu    NaN   \n",
       "4        11004   NaN  Elizabeth        NaN  Johnson    NaN   \n",
       "5        11005   NaN      Julio        NaN     Ruiz    NaN   \n",
       "6        11006   NaN      Janet          G  Alvarez    NaN   \n",
       "7        11007   NaN      Marco        NaN    Mehta    NaN   \n",
       "8        11008   NaN        Rob        NaN  Verhoff    NaN   \n",
       "9        11009   NaN    Shannon          C  Carlson    NaN   \n",
       "10       11010   NaN  Jacquelyn          C   Suarez    NaN   \n",
       "11       11011   NaN     Curtis        NaN       Lu    NaN   \n",
       "12       11012   NaN     Lauren          M   Walker    NaN   \n",
       "13       11013   NaN        Ian          M  Jenkins    NaN   \n",
       "14       11014   NaN     Sydney        NaN  Bennett    NaN   \n",
       "15       11015   NaN      Chloe        NaN    Young    NaN   \n",
       "16       11016   NaN      Wyatt          L     Hill    NaN   \n",
       "17       11019   NaN       Luke          L      Lal    NaN   \n",
       "18       11020   NaN     Jordan          C     King    NaN   \n",
       "19       11023   NaN       Seth          M  Edwards    NaN   \n",
       "\n",
       "            AddressLine1 AddressLine2            City StateProvinceName  \\\n",
       "0        3761 N. 14th St          NaN     Rockhampton        Queensland   \n",
       "1             2243 W St.          NaN         Seaford          Victoria   \n",
       "2       5844 Linden Land          NaN          Hobart          Tasmania   \n",
       "3       1825 Village Pl.          NaN      North Ryde   New South Wales   \n",
       "4    7553 Harness Circle          NaN      Wollongong   New South Wales   \n",
       "5    7305 Humphrey Drive          NaN   East Brisbane        Queensland   \n",
       "6          2612 Berry Dr          NaN      Matraville   New South Wales   \n",
       "7       942 Brook Street          NaN     Warrnambool          Victoria   \n",
       "8       624 Peabody Road          NaN         Bendigo          Victoria   \n",
       "9    3839 Northgate Road          NaN      Hervey Bay        Queensland   \n",
       "10   7800 Corrinne Court          NaN   East Brisbane        Queensland   \n",
       "11          1224 Shoenic          NaN   East Brisbane        Queensland   \n",
       "12     4785 Scott Street          NaN       Bremerton        Washington   \n",
       "13      7902 Hudson Ave.          NaN         Lebanon            Oregon   \n",
       "14       9011 Tank Drive          NaN         Redmond        Washington   \n",
       "15  244 Willow Pass Road          NaN         Burbank        California   \n",
       "16   9666 Northridge Ct.          NaN  Imperial Beach        California   \n",
       "17       7832 Landing Dr          NaN         Langley  British Columbia   \n",
       "18         7156 Rose Dr.          NaN       Metchosin  British Columbia   \n",
       "19     4499 Valley Crest          NaN      Bellflower        California   \n",
       "\n",
       "   CountryRegionName PostalCode          PhoneNumber   BirthDate  \\\n",
       "0          Australia       4700  1 (11) 500 555-0162  1966-04-08   \n",
       "1          Australia       3198  1 (11) 500 555-0110  1965-05-14   \n",
       "2          Australia       7001  1 (11) 500 555-0184  1965-08-12   \n",
       "3          Australia       2113  1 (11) 500 555-0162  1968-02-15   \n",
       "4          Australia       2500  1 (11) 500 555-0131  1968-08-08   \n",
       "5          Australia       4169  1 (11) 500 555-0151  1965-08-05   \n",
       "6          Australia       2036  1 (11) 500 555-0184  1965-12-06   \n",
       "7          Australia       3280  1 (11) 500 555-0126  1964-05-09   \n",
       "8          Australia       3550  1 (11) 500 555-0164  1964-07-07   \n",
       "9          Australia       4655  1 (11) 500 555-0110  1964-04-01   \n",
       "10         Australia       4169  1 (11) 500 555-0169  1964-02-06   \n",
       "11         Australia       4169  1 (11) 500 555-0117  1963-11-04   \n",
       "12     United States      98312         717-555-0164  1968-01-18   \n",
       "13     United States      97355         817-555-0185  1968-08-06   \n",
       "14     United States      98052         431-555-0156  1968-05-09   \n",
       "15     United States      91502         208-555-0142  1979-02-27   \n",
       "16     United States      91932         135-555-0171  1979-04-28   \n",
       "17            Canada    V3A 4R2         262-555-0112  1978-03-07   \n",
       "18            Canada         V9         550-555-0163  1978-09-20   \n",
       "19     United States      90706         452-555-0188  1978-10-11   \n",
       "\n",
       "          Education      Occupation Gender MaritalStatus  HomeOwnerFlag  \\\n",
       "0        Bachelors     Professional      M             M              1   \n",
       "1        Bachelors     Professional      M             S              0   \n",
       "2        Bachelors     Professional      M             M              1   \n",
       "3        Bachelors     Professional      F             S              0   \n",
       "4        Bachelors     Professional      F             S              1   \n",
       "5        Bachelors     Professional      M             S              1   \n",
       "6        Bachelors     Professional      F             S              1   \n",
       "7        Bachelors     Professional      M             M              1   \n",
       "8        Bachelors     Professional      F             S              1   \n",
       "9        Bachelors     Professional      M             S              0   \n",
       "10       Bachelors     Professional      F             S              0   \n",
       "11       Bachelors     Professional      M             M              1   \n",
       "12       Bachelors       Management      F             M              1   \n",
       "13       Bachelors       Management      M             M              1   \n",
       "14       Bachelors       Management      F             S              0   \n",
       "15  Partial College  Skilled Manual      F             S              0   \n",
       "16  Partial College  Skilled Manual      M             M              1   \n",
       "17      High School  Skilled Manual      M             S              0   \n",
       "18      High School  Skilled Manual      M             S              0   \n",
       "19  Partial College  Skilled Manual      M             M              1   \n",
       "\n",
       "    NumberCarsOwned  NumberChildrenAtHome  TotalChildren  YearlyIncome  \n",
       "0                 0                     0              2        137947  \n",
       "1                 1                     3              3        101141  \n",
       "2                 1                     3              3         91945  \n",
       "3                 1                     0              0         86688  \n",
       "4                 4                     5              5         92771  \n",
       "5                 1                     0              0        103199  \n",
       "6                 1                     0              0         84756  \n",
       "7                 2                     3              3        109759  \n",
       "8                 3                     4              4         88005  \n",
       "9                 1                     0              0        106399  \n",
       "10                1                     0              0         81294  \n",
       "11                4                     4              4         94029  \n",
       "12                2                     0              2         99245  \n",
       "13                3                     0              2        115859  \n",
       "14                3                     0              3        105157  \n",
       "15                1                     0              0         40011  \n",
       "16                1                     0              0         46808  \n",
       "17                2                     0              0         49455  \n",
       "18                2                     0              0         43857  \n",
       "19                1                     0              0         50046  "
      ]
     },
     "execution_count": 4,
     "metadata": {},
     "output_type": "execute_result"
    }
   ],
   "source": [
    "pd.set_option('display.max_columns', None)\n",
    "aw_custs.head(20)"
   ]
  },
  {
   "cell_type": "markdown",
   "metadata": {},
   "source": [
    "# Spent Overview"
   ]
  },
  {
   "cell_type": "code",
   "execution_count": 5,
   "metadata": {},
   "outputs": [
    {
     "data": {
      "text/html": [
       "<div>\n",
       "<style scoped>\n",
       "    .dataframe tbody tr th:only-of-type {\n",
       "        vertical-align: middle;\n",
       "    }\n",
       "\n",
       "    .dataframe tbody tr th {\n",
       "        vertical-align: top;\n",
       "    }\n",
       "\n",
       "    .dataframe thead th {\n",
       "        text-align: right;\n",
       "    }\n",
       "</style>\n",
       "<table border=\"1\" class=\"dataframe\">\n",
       "  <thead>\n",
       "    <tr style=\"text-align: right;\">\n",
       "      <th></th>\n",
       "      <th>CustomerID</th>\n",
       "      <th>AveMonthSpend</th>\n",
       "    </tr>\n",
       "  </thead>\n",
       "  <tbody>\n",
       "    <tr>\n",
       "      <th>count</th>\n",
       "      <td>16519.000000</td>\n",
       "      <td>16519.000000</td>\n",
       "    </tr>\n",
       "    <tr>\n",
       "      <th>mean</th>\n",
       "      <td>20234.225195</td>\n",
       "      <td>72.405957</td>\n",
       "    </tr>\n",
       "    <tr>\n",
       "      <th>std</th>\n",
       "      <td>5342.515987</td>\n",
       "      <td>27.285370</td>\n",
       "    </tr>\n",
       "    <tr>\n",
       "      <th>min</th>\n",
       "      <td>11000.000000</td>\n",
       "      <td>22.000000</td>\n",
       "    </tr>\n",
       "    <tr>\n",
       "      <th>25%</th>\n",
       "      <td>15604.500000</td>\n",
       "      <td>52.000000</td>\n",
       "    </tr>\n",
       "    <tr>\n",
       "      <th>50%</th>\n",
       "      <td>20221.000000</td>\n",
       "      <td>68.000000</td>\n",
       "    </tr>\n",
       "    <tr>\n",
       "      <th>75%</th>\n",
       "      <td>24860.500000</td>\n",
       "      <td>84.000000</td>\n",
       "    </tr>\n",
       "    <tr>\n",
       "      <th>max</th>\n",
       "      <td>29482.000000</td>\n",
       "      <td>176.000000</td>\n",
       "    </tr>\n",
       "  </tbody>\n",
       "</table>\n",
       "</div>"
      ],
      "text/plain": [
       "         CustomerID  AveMonthSpend\n",
       "count  16519.000000   16519.000000\n",
       "mean   20234.225195      72.405957\n",
       "std     5342.515987      27.285370\n",
       "min    11000.000000      22.000000\n",
       "25%    15604.500000      52.000000\n",
       "50%    20221.000000      68.000000\n",
       "75%    24860.500000      84.000000\n",
       "max    29482.000000     176.000000"
      ]
     },
     "execution_count": 5,
     "metadata": {},
     "output_type": "execute_result"
    }
   ],
   "source": [
    "aw_spent.describe()"
   ]
  },
  {
   "cell_type": "code",
   "execution_count": 6,
   "metadata": {},
   "outputs": [
    {
     "data": {
      "text/html": [
       "<div>\n",
       "<style scoped>\n",
       "    .dataframe tbody tr th:only-of-type {\n",
       "        vertical-align: middle;\n",
       "    }\n",
       "\n",
       "    .dataframe tbody tr th {\n",
       "        vertical-align: top;\n",
       "    }\n",
       "\n",
       "    .dataframe thead th {\n",
       "        text-align: right;\n",
       "    }\n",
       "</style>\n",
       "<table border=\"1\" class=\"dataframe\">\n",
       "  <thead>\n",
       "    <tr style=\"text-align: right;\">\n",
       "      <th></th>\n",
       "      <th>CustomerID</th>\n",
       "      <th>AveMonthSpend</th>\n",
       "    </tr>\n",
       "  </thead>\n",
       "  <tbody>\n",
       "    <tr>\n",
       "      <th>0</th>\n",
       "      <td>11000</td>\n",
       "      <td>89</td>\n",
       "    </tr>\n",
       "    <tr>\n",
       "      <th>1</th>\n",
       "      <td>11001</td>\n",
       "      <td>117</td>\n",
       "    </tr>\n",
       "    <tr>\n",
       "      <th>2</th>\n",
       "      <td>11002</td>\n",
       "      <td>123</td>\n",
       "    </tr>\n",
       "    <tr>\n",
       "      <th>3</th>\n",
       "      <td>11003</td>\n",
       "      <td>50</td>\n",
       "    </tr>\n",
       "    <tr>\n",
       "      <th>4</th>\n",
       "      <td>11004</td>\n",
       "      <td>95</td>\n",
       "    </tr>\n",
       "    <tr>\n",
       "      <th>5</th>\n",
       "      <td>11005</td>\n",
       "      <td>78</td>\n",
       "    </tr>\n",
       "    <tr>\n",
       "      <th>6</th>\n",
       "      <td>11006</td>\n",
       "      <td>54</td>\n",
       "    </tr>\n",
       "    <tr>\n",
       "      <th>7</th>\n",
       "      <td>11007</td>\n",
       "      <td>130</td>\n",
       "    </tr>\n",
       "    <tr>\n",
       "      <th>8</th>\n",
       "      <td>11008</td>\n",
       "      <td>85</td>\n",
       "    </tr>\n",
       "    <tr>\n",
       "      <th>9</th>\n",
       "      <td>11009</td>\n",
       "      <td>74</td>\n",
       "    </tr>\n",
       "  </tbody>\n",
       "</table>\n",
       "</div>"
      ],
      "text/plain": [
       "   CustomerID  AveMonthSpend\n",
       "0       11000             89\n",
       "1       11001            117\n",
       "2       11002            123\n",
       "3       11003             50\n",
       "4       11004             95\n",
       "5       11005             78\n",
       "6       11006             54\n",
       "7       11007            130\n",
       "8       11008             85\n",
       "9       11009             74"
      ]
     },
     "execution_count": 6,
     "metadata": {},
     "output_type": "execute_result"
    }
   ],
   "source": [
    "aw_spent.head(10)"
   ]
  },
  {
   "cell_type": "markdown",
   "metadata": {},
   "source": [
    "# Buyers Overview"
   ]
  },
  {
   "cell_type": "code",
   "execution_count": 19,
   "metadata": {},
   "outputs": [
    {
     "name": "stdout",
     "output_type": "stream",
     "text": [
      "         CustomerID     BikeBuyer\n",
      "count  16519.000000  16519.000000\n",
      "mean   20234.225195      0.332284\n",
      "std     5342.515987      0.471046\n",
      "min    11000.000000      0.000000\n",
      "25%    15604.500000      0.000000\n",
      "50%    20221.000000      0.000000\n",
      "75%    24860.500000      1.000000\n",
      "max    29482.000000      1.000000\n"
     ]
    },
    {
     "data": {
      "text/plain": [
       "115"
      ]
     },
     "execution_count": 19,
     "metadata": {},
     "output_type": "execute_result"
    }
   ],
   "source": [
    "print(aw_buyers.describe())\n",
    "aw_buyers.duplicated('CustomerID').sum()"
   ]
  },
  {
   "cell_type": "code",
   "execution_count": 8,
   "metadata": {},
   "outputs": [
    {
     "data": {
      "text/html": [
       "<div>\n",
       "<style scoped>\n",
       "    .dataframe tbody tr th:only-of-type {\n",
       "        vertical-align: middle;\n",
       "    }\n",
       "\n",
       "    .dataframe tbody tr th {\n",
       "        vertical-align: top;\n",
       "    }\n",
       "\n",
       "    .dataframe thead th {\n",
       "        text-align: right;\n",
       "    }\n",
       "</style>\n",
       "<table border=\"1\" class=\"dataframe\">\n",
       "  <thead>\n",
       "    <tr style=\"text-align: right;\">\n",
       "      <th></th>\n",
       "      <th>CustomerID</th>\n",
       "      <th>BikeBuyer</th>\n",
       "    </tr>\n",
       "  </thead>\n",
       "  <tbody>\n",
       "    <tr>\n",
       "      <th>0</th>\n",
       "      <td>11000</td>\n",
       "      <td>0</td>\n",
       "    </tr>\n",
       "    <tr>\n",
       "      <th>1</th>\n",
       "      <td>11001</td>\n",
       "      <td>1</td>\n",
       "    </tr>\n",
       "    <tr>\n",
       "      <th>2</th>\n",
       "      <td>11002</td>\n",
       "      <td>0</td>\n",
       "    </tr>\n",
       "    <tr>\n",
       "      <th>3</th>\n",
       "      <td>11003</td>\n",
       "      <td>0</td>\n",
       "    </tr>\n",
       "    <tr>\n",
       "      <th>4</th>\n",
       "      <td>11004</td>\n",
       "      <td>1</td>\n",
       "    </tr>\n",
       "    <tr>\n",
       "      <th>5</th>\n",
       "      <td>11005</td>\n",
       "      <td>1</td>\n",
       "    </tr>\n",
       "    <tr>\n",
       "      <th>6</th>\n",
       "      <td>11006</td>\n",
       "      <td>1</td>\n",
       "    </tr>\n",
       "    <tr>\n",
       "      <th>7</th>\n",
       "      <td>11007</td>\n",
       "      <td>1</td>\n",
       "    </tr>\n",
       "    <tr>\n",
       "      <th>8</th>\n",
       "      <td>11008</td>\n",
       "      <td>1</td>\n",
       "    </tr>\n",
       "    <tr>\n",
       "      <th>9</th>\n",
       "      <td>11009</td>\n",
       "      <td>0</td>\n",
       "    </tr>\n",
       "  </tbody>\n",
       "</table>\n",
       "</div>"
      ],
      "text/plain": [
       "   CustomerID  BikeBuyer\n",
       "0       11000          0\n",
       "1       11001          1\n",
       "2       11002          0\n",
       "3       11003          0\n",
       "4       11004          1\n",
       "5       11005          1\n",
       "6       11006          1\n",
       "7       11007          1\n",
       "8       11008          1\n",
       "9       11009          0"
      ]
     },
     "execution_count": 8,
     "metadata": {},
     "output_type": "execute_result"
    }
   ],
   "source": [
    "aw_buyers.head(10)"
   ]
  },
  {
   "cell_type": "code",
   "execution_count": 22,
   "metadata": {},
   "outputs": [
    {
     "name": "stdout",
     "output_type": "stream",
     "text": [
      "68.0\n"
     ]
    }
   ],
   "source": [
    "print(aw_spent['AveMonthSpend'].median())"
   ]
  },
  {
   "cell_type": "code",
   "execution_count": 10,
   "metadata": {},
   "outputs": [
    {
     "data": {
      "text/plain": [
       "<matplotlib.axes._subplots.AxesSubplot at 0x238281e9da0>"
      ]
     },
     "execution_count": 10,
     "metadata": {},
     "output_type": "execute_result"
    },
    {
     "data": {
      "image/png": "[encoded data removed]",
      "text/plain": [
       "<Figure size 432x288 with 1 Axes>"
      ]
     },
     "metadata": {
      "needs_background": "light"
     },
     "output_type": "display_data"
    }
   ],
   "source": [
    "aw_buyers['BikeBuyer'].hist(bins=2)"
   ]
  },
  {
   "cell_type": "markdown",
   "metadata": {},
   "source": [
    "## Income by occupation"
   ]
  },
  {
   "cell_type": "code",
   "execution_count": 11,
   "metadata": {},
   "outputs": [
    {
     "data": {
      "text/plain": [
       "<matplotlib.axes._subplots.AxesSubplot at 0x238284f7b38>"
      ]
     },
     "execution_count": 11,
     "metadata": {},
     "output_type": "execute_result"
    },
    {
     "data": {
      "image/png": "[encoded data removed]",
      "text/plain": [
       "<Figure size 432x288 with 1 Axes>"
      ]
     },
     "metadata": {
      "needs_background": "light"
     },
     "output_type": "display_data"
    }
   ],
   "source": [
    "aw_custs.groupby('Occupation')['YearlyIncome'].mean().sort_values().plot(kind='bar')"
   ]
  },
  {
   "cell_type": "code",
   "execution_count": 16,
   "metadata": {},
   "outputs": [
    {
     "name": "stdout",
     "output_type": "stream",
     "text": [
      "         CustomerID  HomeOwnerFlag  NumberCarsOwned  NumberChildrenAtHome  \\\n",
      "count  16519.000000   16519.000000     16519.000000          16519.000000   \n",
      "mean   20234.225195       0.673891         1.500999              0.992009   \n",
      "std     5342.515987       0.468802         1.138962              1.515048   \n",
      "min    11000.000000       0.000000         0.000000              0.000000   \n",
      "25%    15604.500000       0.000000         1.000000              0.000000   \n",
      "50%    20221.000000       1.000000         2.000000              0.000000   \n",
      "75%    24860.500000       1.000000         2.000000              2.000000   \n",
      "max    29482.000000       1.000000         4.000000              5.000000   \n",
      "\n",
      "       TotalChildren   YearlyIncome  \n",
      "count   16519.000000   16519.000000  \n",
      "mean        2.006235   78122.511532  \n",
      "std         1.682736   39710.985718  \n",
      "min         0.000000    9482.000000  \n",
      "25%         0.000000   47807.500000  \n",
      "50%         2.000000   76120.000000  \n",
      "75%         3.000000  105194.500000  \n",
      "max         5.000000  196511.000000  \n",
      "         CustomerID  HomeOwnerFlag  NumberCarsOwned  NumberChildrenAtHome  \\\n",
      "count  17209.000000   17209.000000     17209.000000          17209.000000   \n",
      "mean   20200.378523       0.672671         1.508106              0.997211   \n",
      "std     5354.643340       0.469252         1.137949              1.519436   \n",
      "min    11000.000000       0.000000         0.000000              0.000000   \n",
      "25%    15531.000000       0.000000         1.000000              0.000000   \n",
      "50%    20157.000000       1.000000         2.000000              0.000000   \n",
      "75%    24850.000000       1.000000         2.000000              2.000000   \n",
      "max    29482.000000       1.000000         4.000000              5.000000   \n",
      "\n",
      "       TotalChildren   YearlyIncome  AveMonthSpend     BikeBuyer  \n",
      "count   17209.000000   17209.000000   17209.000000  17209.000000  \n",
      "mean        2.016096   78084.818700      72.494625      0.331513  \n",
      "std         1.685089   39616.621179      27.374399      0.470771  \n",
      "min         0.000000    9482.000000      22.000000      0.000000  \n",
      "25%         0.000000   47773.000000      52.000000      0.000000  \n",
      "50%         2.000000   76090.000000      68.000000      0.000000  \n",
      "75%         3.000000  105065.000000      84.000000      1.000000  \n",
      "max         5.000000  196511.000000     176.000000      1.000000  \n"
     ]
    }
   ],
   "source": [
    "merged = pd.merge(aw_custs, aw_spent, on='CustomerID', how='inner')\n",
    "merged = pd.merge(merged, aw_buyers, on='CustomerID', how='inner')\n",
    "print(aw_custs.describe())\n",
    "print(merged.describe())"
   ]
  },
  {
   "cell_type": "code",
   "execution_count": 13,
   "metadata": {},
   "outputs": [
    {
     "data": {
      "text/plain": [
       "0    32.0\n",
       "1    33.0\n",
       "2    33.0\n",
       "3    30.0\n",
       "4    30.0\n",
       "Name: Age, dtype: float64"
      ]
     },
     "execution_count": 13,
     "metadata": {},
     "output_type": "execute_result"
    }
   ],
   "source": [
    "merged['BirthdayDate'] =  pd.to_datetime(merged['BirthDate'], infer_datetime_format=True)\n",
    "merged['Age'] = np.floor((pd.Timestamp('1998-12-31')-merged['BirthdayDate'])/np.timedelta64(1, 'Y'))\n",
    "\n",
    "merged['Age'].head(5)"
   ]
  },
  {
   "cell_type": "code",
   "execution_count": 14,
   "metadata": {},
   "outputs": [
    {
     "data": {
      "text/plain": [
       "<matplotlib.axes._subplots.AxesSubplot at 0x1388f405550>"
      ]
     },
     "execution_count": 14,
     "metadata": {},
     "output_type": "execute_result"
    },
    {
     "data": {
      "image/png": "[encoded data removed]",
      "text/plain": [
       "<Figure size 432x288 with 1 Axes>"
      ]
     },
     "metadata": {
      "needs_background": "light"
     },
     "output_type": "display_data"
    }
   ],
   "source": [
    "merged.groupby(['Gender'])['AveMonthSpend'].mean().sort_values().plot(kind='bar')"
   ]
  },
  {
   "cell_type": "code",
   "execution_count": 15,
   "metadata": {},
   "outputs": [
    {
     "data": {
      "text/plain": [
       "<matplotlib.axes._subplots.AxesSubplot at 0x138908a0240>"
      ]
     },
     "execution_count": 15,
     "metadata": {},
     "output_type": "execute_result"
    },
    {
     "data": {
      "image/png": "[encoded data removed]",
      "text/plain": [
       "<Figure size 1152x1152 with 1 Axes>"
      ]
     },
     "metadata": {
      "needs_background": "light"
     },
     "output_type": "display_data"
    }
   ],
   "source": [
    "fig = plt.figure(figsize=(16,16))\n",
    "merged.groupby(['Age'])['AveMonthSpend'].mean().plot(kind='bar')"
   ]
  },
  {
   "cell_type": "code",
   "execution_count": 16,
   "metadata": {},
   "outputs": [
    {
     "data": {
      "text/plain": [
       "<matplotlib.axes._subplots.AxesSubplot at 0x13890a47da0>"
      ]
     },
     "execution_count": 16,
     "metadata": {},
     "output_type": "execute_result"
    },
    {
     "data": {
      "image/png": "[encoded data removed]",
      "text/plain": [
       "<Figure size 432x288 with 1 Axes>"
      ]
     },
     "metadata": {
      "needs_background": "light"
     },
     "output_type": "display_data"
    }
   ],
   "source": [
    "merged.groupby(['MaritalStatus'])['AveMonthSpend'].median().plot(kind='bar')"
   ]
  },
  {
   "cell_type": "code",
   "execution_count": 17,
   "metadata": {},
   "outputs": [
    {
     "data": {
      "text/plain": [
       "<matplotlib.axes._subplots.AxesSubplot at 0x13891327358>"
      ]
     },
     "execution_count": 17,
     "metadata": {},
     "output_type": "execute_result"
    },
    {
     "data": {
      "image/png": "[encoded data removed]",
      "text/plain": [
       "<Figure size 432x288 with 1 Axes>"
      ]
     },
     "metadata": {
      "needs_background": "light"
     },
     "output_type": "display_data"
    }
   ],
   "source": [
    "merged.groupby(['NumberCarsOwned'])['AveMonthSpend'].median().plot(kind='bar')"
   ]
  },
  {
   "cell_type": "code",
   "execution_count": 18,
   "metadata": {},
   "outputs": [
    {
     "data": {
      "text/plain": [
       "<matplotlib.axes._subplots.AxesSubplot at 0x13890e77cf8>"
      ]
     },
     "execution_count": 18,
     "metadata": {},
     "output_type": "execute_result"
    },
    {
     "data": {
      "image/png": "[encoded data removed]",
      "text/plain": [
       "<Figure size 432x288 with 1 Axes>"
      ]
     },
     "metadata": {
      "needs_background": "light"
     },
     "output_type": "display_data"
    }
   ],
   "source": [
    "merged.groupby(['Gender'])['AveMonthSpend'].median().sort_values().plot(kind='bar')"
   ]
  },
  {
   "cell_type": "code",
   "execution_count": 19,
   "metadata": {},
   "outputs": [
    {
     "data": {
      "text/plain": [
       "<matplotlib.axes._subplots.AxesSubplot at 0x13890ee5518>"
      ]
     },
     "execution_count": 19,
     "metadata": {},
     "output_type": "execute_result"
    },
    {
     "data": {
      "image/png": "[encoded data removed]",
      "text/plain": [
       "<Figure size 432x288 with 1 Axes>"
      ]
     },
     "metadata": {
      "needs_background": "light"
     },
     "output_type": "display_data"
    }
   ],
   "source": [
    "merged.groupby(['Gender'])['AveMonthSpend'].std().plot(kind='bar')"
   ]
  },
  {
   "cell_type": "code",
   "execution_count": 20,
   "metadata": {},
   "outputs": [
    {
     "name": "stdout",
     "output_type": "stream",
     "text": [
      "Gender\n",
      "F    16.483055\n",
      "M    27.109776\n",
      "Name: AveMonthSpend, dtype: float64\n",
      "Gender\n",
      "F    22\n",
      "M    29\n",
      "Name: AveMonthSpend, dtype: int64\n",
      "Gender\n",
      "F    114\n",
      "M    176\n",
      "Name: AveMonthSpend, dtype: int64\n"
     ]
    }
   ],
   "source": [
    "print(merged.groupby(['Gender'])['AveMonthSpend'].std())\n",
    "print(merged.groupby(['Gender'])['AveMonthSpend'].min())\n",
    "print(merged.groupby(['Gender'])['AveMonthSpend'].max())"
   ]
  },
  {
   "cell_type": "code",
   "execution_count": 21,
   "metadata": {},
   "outputs": [
    {
     "data": {
      "text/plain": [
       "NumberChildrenAtHome\n",
       "0     57.0\n",
       "1     69.0\n",
       "2     79.0\n",
       "3     89.0\n",
       "4    107.5\n",
       "5    109.0\n",
       "Name: AveMonthSpend, dtype: float64"
      ]
     },
     "execution_count": 21,
     "metadata": {},
     "output_type": "execute_result"
    }
   ],
   "source": [
    "merged.groupby(['NumberChildrenAtHome'])['AveMonthSpend'].median()"
   ]
  },
  {
   "cell_type": "code",
   "execution_count": 25,
   "metadata": {},
   "outputs": [
    {
     "data": {
      "text/plain": [
       "BikeBuyer\n",
       "0    1.376391\n",
       "1    1.773707\n",
       "Name: NumberCarsOwned, dtype: float64"
      ]
     },
     "execution_count": 25,
     "metadata": {},
     "output_type": "execute_result"
    }
   ],
   "source": [
    "merged.groupby(['BikeBuyer'])['NumberCarsOwned'].mean()"
   ]
  },
  {
   "cell_type": "code",
   "execution_count": 28,
   "metadata": {},
   "outputs": [
    {
     "data": {
      "text/plain": [
       "<matplotlib.axes._subplots.AxesSubplot at 0x13890fb0a90>"
      ]
     },
     "execution_count": 28,
     "metadata": {},
     "output_type": "execute_result"
    },
    {
     "data": {
      "image/png": "[encoded data removed]",
      "text/plain": [
       "<Figure size 432x288 with 1 Axes>"
      ]
     },
     "metadata": {
      "needs_background": "light"
     },
     "output_type": "display_data"
    }
   ],
   "source": [
    "merged.groupby(['Occupation'])['BikeBuyer'].count().plot(kind='bar')"
   ]
  },
  {
   "cell_type": "code",
   "execution_count": 40,
   "metadata": {},
   "outputs": [
    {
     "name": "stdout",
     "output_type": "stream",
     "text": [
      "8717\n",
      "8492\n"
     ]
    },
    {
     "data": {
      "text/html": [
       "<div>\n",
       "<style scoped>\n",
       "    .dataframe tbody tr th:only-of-type {\n",
       "        vertical-align: middle;\n",
       "    }\n",
       "\n",
       "    .dataframe tbody tr th {\n",
       "        vertical-align: top;\n",
       "    }\n",
       "\n",
       "    .dataframe thead th {\n",
       "        text-align: right;\n",
       "    }\n",
       "</style>\n",
       "<table border=\"1\" class=\"dataframe\">\n",
       "  <thead>\n",
       "    <tr style=\"text-align: right;\">\n",
       "      <th></th>\n",
       "      <th>CustomerID</th>\n",
       "      <th>HomeOwnerFlag</th>\n",
       "      <th>NumberCarsOwned</th>\n",
       "      <th>NumberChildrenAtHome</th>\n",
       "      <th>TotalChildren</th>\n",
       "      <th>YearlyIncome</th>\n",
       "      <th>AveMonthSpend</th>\n",
       "      <th>BikeBuyer</th>\n",
       "      <th>Age</th>\n",
       "    </tr>\n",
       "  </thead>\n",
       "  <tbody>\n",
       "    <tr>\n",
       "      <th>count</th>\n",
       "      <td>17209.000000</td>\n",
       "      <td>17209.000000</td>\n",
       "      <td>17209.000000</td>\n",
       "      <td>17209.000000</td>\n",
       "      <td>17209.000000</td>\n",
       "      <td>17209.000000</td>\n",
       "      <td>17209.000000</td>\n",
       "      <td>17209.000000</td>\n",
       "      <td>17209.000000</td>\n",
       "    </tr>\n",
       "    <tr>\n",
       "      <th>mean</th>\n",
       "      <td>20200.378523</td>\n",
       "      <td>0.672671</td>\n",
       "      <td>1.508106</td>\n",
       "      <td>0.997211</td>\n",
       "      <td>2.016096</td>\n",
       "      <td>78084.818700</td>\n",
       "      <td>72.494625</td>\n",
       "      <td>0.331513</td>\n",
       "      <td>36.522982</td>\n",
       "    </tr>\n",
       "    <tr>\n",
       "      <th>std</th>\n",
       "      <td>5354.643340</td>\n",
       "      <td>0.469252</td>\n",
       "      <td>1.137949</td>\n",
       "      <td>1.519436</td>\n",
       "      <td>1.685089</td>\n",
       "      <td>39616.621179</td>\n",
       "      <td>27.374399</td>\n",
       "      <td>0.470771</td>\n",
       "      <td>11.271581</td>\n",
       "    </tr>\n",
       "    <tr>\n",
       "      <th>min</th>\n",
       "      <td>11000.000000</td>\n",
       "      <td>0.000000</td>\n",
       "      <td>0.000000</td>\n",
       "      <td>0.000000</td>\n",
       "      <td>0.000000</td>\n",
       "      <td>9482.000000</td>\n",
       "      <td>22.000000</td>\n",
       "      <td>0.000000</td>\n",
       "      <td>18.000000</td>\n",
       "    </tr>\n",
       "    <tr>\n",
       "      <th>25%</th>\n",
       "      <td>15531.000000</td>\n",
       "      <td>0.000000</td>\n",
       "      <td>1.000000</td>\n",
       "      <td>0.000000</td>\n",
       "      <td>0.000000</td>\n",
       "      <td>47773.000000</td>\n",
       "      <td>52.000000</td>\n",
       "      <td>0.000000</td>\n",
       "      <td>28.000000</td>\n",
       "    </tr>\n",
       "    <tr>\n",
       "      <th>50%</th>\n",
       "      <td>20157.000000</td>\n",
       "      <td>1.000000</td>\n",
       "      <td>2.000000</td>\n",
       "      <td>0.000000</td>\n",
       "      <td>2.000000</td>\n",
       "      <td>76090.000000</td>\n",
       "      <td>68.000000</td>\n",
       "      <td>0.000000</td>\n",
       "      <td>35.000000</td>\n",
       "    </tr>\n",
       "    <tr>\n",
       "      <th>75%</th>\n",
       "      <td>24850.000000</td>\n",
       "      <td>1.000000</td>\n",
       "      <td>2.000000</td>\n",
       "      <td>2.000000</td>\n",
       "      <td>3.000000</td>\n",
       "      <td>105065.000000</td>\n",
       "      <td>84.000000</td>\n",
       "      <td>1.000000</td>\n",
       "      <td>44.000000</td>\n",
       "    </tr>\n",
       "    <tr>\n",
       "      <th>max</th>\n",
       "      <td>29482.000000</td>\n",
       "      <td>1.000000</td>\n",
       "      <td>4.000000</td>\n",
       "      <td>5.000000</td>\n",
       "      <td>5.000000</td>\n",
       "      <td>196511.000000</td>\n",
       "      <td>176.000000</td>\n",
       "      <td>1.000000</td>\n",
       "      <td>88.000000</td>\n",
       "    </tr>\n",
       "  </tbody>\n",
       "</table>\n",
       "</div>"
      ],
      "text/plain": [
       "         CustomerID  HomeOwnerFlag  NumberCarsOwned  NumberChildrenAtHome  \\\n",
       "count  17209.000000   17209.000000     17209.000000          17209.000000   \n",
       "mean   20200.378523       0.672671         1.508106              0.997211   \n",
       "std     5354.643340       0.469252         1.137949              1.519436   \n",
       "min    11000.000000       0.000000         0.000000              0.000000   \n",
       "25%    15531.000000       0.000000         1.000000              0.000000   \n",
       "50%    20157.000000       1.000000         2.000000              0.000000   \n",
       "75%    24850.000000       1.000000         2.000000              2.000000   \n",
       "max    29482.000000       1.000000         4.000000              5.000000   \n",
       "\n",
       "       TotalChildren   YearlyIncome  AveMonthSpend     BikeBuyer           Age  \n",
       "count   17209.000000   17209.000000   17209.000000  17209.000000  17209.000000  \n",
       "mean        2.016096   78084.818700      72.494625      0.331513     36.522982  \n",
       "std         1.685089   39616.621179      27.374399      0.470771     11.271581  \n",
       "min         0.000000    9482.000000      22.000000      0.000000     18.000000  \n",
       "25%         0.000000   47773.000000      52.000000      0.000000     28.000000  \n",
       "50%         2.000000   76090.000000      68.000000      0.000000     35.000000  \n",
       "75%         3.000000  105065.000000      84.000000      1.000000     44.000000  \n",
       "max         5.000000  196511.000000     176.000000      1.000000     88.000000  "
      ]
     },
     "execution_count": 40,
     "metadata": {},
     "output_type": "execute_result"
    }
   ],
   "source": [
    "print((merged['Gender']=='M').sum())\n",
    "print((merged['Gender']=='F').sum())"
   ]
  },
  {
   "cell_type": "code",
   "execution_count": 31,
   "metadata": {},
   "outputs": [
    {
     "data": {
      "text/plain": [
       "<matplotlib.axes._subplots.AxesSubplot at 0x1389124e7b8>"
      ]
     },
     "execution_count": 31,
     "metadata": {},
     "output_type": "execute_result"
    },
    {
     "data": {
      "image/png": "[encoded data removed]",
      "text/plain": [
       "<Figure size 432x288 with 1 Axes>"
      ]
     },
     "metadata": {
      "needs_background": "light"
     },
     "output_type": "display_data"
    }
   ],
   "source": [
    "merged.groupby(['MaritalStatus'])['BikeBuyer'].count().plot(kind='bar')"
   ]
  },
  {
   "cell_type": "code",
   "execution_count": 30,
   "metadata": {},
   "outputs": [
    {
     "data": {
      "text/plain": [
       "Gender\n",
       "F    2334\n",
       "M    3371\n",
       "Name: BikeBuyer, dtype: int64"
      ]
     },
     "execution_count": 30,
     "metadata": {},
     "output_type": "execute_result"
    }
   ],
   "source": [
    "merged.groupby(['Gender'])['BikeBuyer'].sum()"
   ]
  },
  {
   "cell_type": "code",
   "execution_count": 26,
   "metadata": {},
   "outputs": [
    {
     "name": "stdout",
     "output_type": "stream",
     "text": [
      "9307\n",
      "7902\n"
     ]
    }
   ],
   "source": [
    "print((merged['MaritalStatus']=='M').sum())\n",
    "print((merged['MaritalStatus']=='S').sum())"
   ]
  },
  {
   "cell_type": "code",
   "execution_count": 29,
   "metadata": {},
   "outputs": [
    {
     "data": {
      "text/plain": [
       "MaritalStatus\n",
       "M    2320\n",
       "S    3385\n",
       "Name: BikeBuyer, dtype: int64"
      ]
     },
     "execution_count": 29,
     "metadata": {},
     "output_type": "execute_result"
    }
   ],
   "source": [
    "merged.groupby(['MaritalStatus'])['BikeBuyer'].sum()"
   ]
  },
  {
   "cell_type": "code",
   "execution_count": null,
   "metadata": {},
   "outputs": [],
   "source": []
  }
 ],
 "metadata": {
  "kernelspec": {
   "display_name": "Python 3",
   "language": "python",
   "name": "python3"
  },
  "language_info": {
   "codemirror_mode": {
    "name": "ipython",
    "version": 3
   },
   "file_extension": ".py",
   "mimetype": "text/x-python",
   "name": "python",
   "nbconvert_exporter": "python",
   "pygments_lexer": "ipython3",
   "version": "3.6.6"
  }
 },
 "nbformat": 4,
 "nbformat_minor": 2
}
